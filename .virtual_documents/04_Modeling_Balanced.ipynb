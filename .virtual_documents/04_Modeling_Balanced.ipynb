


import pandas as pd
import numpy as np
import seaborn as sns
import matplotlib.pyplot as plt

import mlflow
import mlflow.sklearn

import h2o
from h2o.automl import H2OAutoML

from sklearn.pipeline import Pipeline
from sklearn.compose import ColumnTransformer
from sklearn.preprocessing import StandardScaler, OrdinalEncoder
from sklearn.impute import SimpleImputer
from sklearn.ensemble import RandomForestClassifier
from sklearn.metrics import f1_score, accuracy_score, precision_score, recall_score, roc_auc_score
from sklearn.metrics import confusion_matrix


train_data = pd.read_csv('data/processed/train_data.csv')
test_data  = pd.read_csv('data/processed/test_data.csv')


train_data = train_data.drop(columns = ['Unnamed: 0','product_name'])
test_data = test_data.drop(columns = ['Unnamed: 0','product_name'])


X_train = train_data.drop(columns=['reordered','product_id','user_id'])
y_train = train_data['reordered']

X_test  = test_data.drop(columns=['reordered','product_id','user_id'])
y_test  = test_data['reordered']





categorical_cols = ['aisle_id', 'department_id']
numeric_cols = [col for col in X_train.columns if col not in categorical_cols]


# Transformers
numeric_transformer = Pipeline(steps=[
    ('imputer', SimpleImputer(strategy='mean')),
    ('scaler', StandardScaler())
])

categorical_transformer = Pipeline(steps=[
    ('imputer', SimpleImputer(strategy='most_frequent')),
    ('encoder', OrdinalEncoder())
])

preprocessor = ColumnTransformer(transformers=[
    ('num', numeric_transformer, numeric_cols),
    ('cat', categorical_transformer, categorical_cols)
])





rf_pipeline = Pipeline(steps=[
    ('preprocessor', preprocessor),
    ('classifier', RandomForestClassifier(random_state=32021, class_weight='balanced'))
])


# Log baseline results with MLFlow
with mlflow.start_run(run_name='Baseline_RandomForest_Balanced'):
    rf_pipeline.fit(X_train, y_train)
    y_pred = rf_pipeline.predict(X_test)
    
    f1 = f1_score(y_test, y_pred)
    accuracy = accuracy_score(y_test, y_pred)

    mlflow.log_param('Model', 'RandomForest Balanced Data')
    mlflow.log_metric('f1_score', f1)
    mlflow.log_metric('accuracy', accuracy)
    mlflow.sklearn.log_model(rf_pipeline, 'baseline_rf_pipeline_balanced')

    # Confusion matrix plot
    cm = confusion_matrix(y_test, y_pred)
    fig, ax = plt.subplots(figsize=(5,4))
    sns.heatmap(cm, annot=True, fmt='d', cmap='Blues', ax=ax)
    ax.set_xlabel('Predicted')
    ax.set_ylabel('Actual')
    ax.set_title('Confusion Matrix for Baseline RandomForest with Balanced Data')
    cm_path = 'confusion_matrix_rf_balanced.png'
    plt.savefig(cm_path)
    plt.close(fig)
    mlflow.log_artifact(cm_path)
    
print('Baseline RF logged.')





h2o.init()


train_h2o = h2o.H2OFrame(pd.concat([X_train, y_train], axis=1))
test_h2o  = h2o.H2OFrame(pd.concat([X_test, y_test], axis=1))

train_h2o['reordered'] = train_h2o['reordered'].asfactor()
test_h2o['reordered']  = test_h2o['reordered'].asfactor()

train_h2o['aisle_id'] = train_h2o['aisle_id'].asfactor()
train_h2o['department_id'] = train_h2o['department_id'].asfactor()

test_h2o['aisle_id'] = test_h2o['aisle_id'].asfactor()
test_h2o['department_id'] = test_h2o['department_id'].asfactor()

train, valid = train_h2o.split_frame(ratios=[0.8], seed=32021)


target = 'reordered'
features = numeric_cols + categorical_cols


aml = H2OAutoML(max_models=20, seed=32021, exclude_algos = ['StackedEnsemble', 'DeepLearning'], nfolds=0, balance_classes=True)
aml.train(x=features, y=target, training_frame=train, validation_frame=valid)





lb = aml.leaderboard
print(lb.head(10))

best_model = aml.leader
print(best_model)





preds = best_model.predict(test_h2o)
pred_labels = preds.as_data_frame()['predict']

f1 = f1_score(y_test, pred_labels)
accuracy = accuracy_score(y_test, pred_labels)

cm = confusion_matrix(y_test, pred_labels)
fig, ax = plt.subplots(figsize=(5,4))
sns.heatmap(cm, annot=True, fmt='d', cmap='Blues', ax=ax)
ax.set_xlabel('Predicted')
ax.set_ylabel('Actual')
ax.set_title("Confusion Matrix for H2O AutoML's best model with Balanced data")
cm_path = 'confusion_matrix_aml_balanced.png'
plt.savefig(cm_path)
plt.close(fig)

# Log automl's best model results with mlflow
with mlflow.start_run(run_name='H2O_AutoML_Balanced'):
    model_path = h2o.save_model(best_model, path='models', force=True)
    mlflow.log_artifact(model_path, 'h2o_aml_model_balanced')

    mlflow.log_param('model_type', 'H2O_AutoML_Leader_Balanced')
    mlflow.log_metric('f1_score', f1)
    mlflow.log_metric('accuracy', accuracy)

    mlflow.log_artifact(cm_path)

print('H2O AutoML results logged.')
