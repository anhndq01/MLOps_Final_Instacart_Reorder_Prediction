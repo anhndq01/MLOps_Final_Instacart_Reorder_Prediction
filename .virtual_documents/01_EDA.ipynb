


import pandas as pd
import numpy as np
import matplotlib.pyplot as plt
import seaborn as sns


aisles = pd.read_csv('data/raw/aisles.csv')
departments =  pd.read_csv('data/raw/departments.csv')
prior = pd.read_csv('data/raw/order_products__prior.csv')
train = pd.read_csv('data/raw/order_products__train.csv')
orders = pd.read_csv('data/raw/orders.csv')
products = pd.read_csv('data/raw/products.csv')





aisles.head()


aisles['aisle'].nunique()


aisles['aisle'].unique()





departments.head()


departments.nunique()


departments['department'].unique()





prior.head()


prior[['add_to_cart_order','reordered']].describe()


prior[['order_id','product_id']].nunique()


train.head()


train[['add_to_cart_order','reordered']].describe()


train[['order_id','product_id']].nunique()





orders.head()


orders.describe()


# Number of total users
orders['user_id'].nunique()





# Count orders per user
orders_per_user = orders.groupby('user_id')['order_id'].count()

plt.figure(figsize=(10,5))
plt.hist(orders_per_user, bins=range(0, orders_per_user.max()+5, 5), edgecolor='black')
plt.xlabel('Number of Orders per Customer')
plt.ylabel('Number of Customers')
plt.title('Distribution of Orders per Customer')
plt.xticks(range(0, orders_per_user.max()+5, 5))
plt.show()





plt.figure(figsize=(8,5))
plt.hist(orders['order_dow'], bins=range(0,8), rwidth=0.8, align='left',color='#69b3a2')
plt.xlabel('Day of Week')
plt.ylabel('Number of Orders')
plt.title('Distribution of Orders by Day of Week')
plt.xticks(range(0,7), ['Sun', 'Mon', 'Tue', 'Wed', 'Thu', 'Fri', 'Sat']) # Assuming 0 is Sunday
plt.show()


plt.figure(figsize=(10,5))
plt.hist(orders['order_hour_of_day'],
    bins=range(0,25),
    rwidth=0.8,
    color='#ff9999'
)
plt.xlabel('Hour of Day')
plt.ylabel('Number of Orders')
plt.title('Distribution of Orders by Hour of Day')
plt.xticks(range(0,25,1))
plt.show()


plt.figure(figsize=(10,5))
plt.hist(
    orders['days_since_prior_order'].dropna(),
    bins=range(1,31),
    rwidth=0.8,
    align='left',
    color='#a6cee3'
)
plt.xlabel('Days Since Prior Order')
plt.ylabel('Number of Orders')
plt.title('Distribution of Orders by Days Since Prior Order')
plt.xticks(range(1,31,2))
plt.show()


#Group orders by DOW and hour
dow_hour_counts = orders.groupby(['order_dow', 'order_hour_of_day'])['order_id'].count().unstack(fill_value=0)

plt.figure(figsize=(12,6))

colors = ['#a6cee3', '#1f78b4', '#b2df8a', '#33a02c', '#fb9a99', '#e31a1c', '#fdbf6f']

for i, dow in enumerate(dow_hour_counts.index):
    plt.plot(dow_hour_counts.columns, dow_hour_counts.loc[dow], label=f'Day {dow}', color=colors[i],linewidth=2)

plt.xlabel('Hour of Day')
plt.ylabel('Number of Orders')
plt.title('Orders by Day of Week and Hour of Day')
plt.xticks(range(0,24))
plt.legend(title='Day of Week', bbox_to_anchor=(1.05, 1), loc='upper left')
plt.tight_layout()
plt.show()





products.head()


products['product_id'].nunique()





product_info = products.merge(aisles, on = 'aisle_id')
product_info = product_info.merge(departments, on = 'department_id')





product_by_aisle = product_info.groupby('aisle')['product_id'].count()

# Get top 20 aisles
top_20_aisle = product_by_aisle.sort_values(ascending=False).head(20)

plt.figure(figsize=(12,6))
plt.bar(top_20_aisle.index, top_20_aisle.values, color='#a6cee3', edgecolor='black')
plt.xlabel('Aisle')
plt.ylabel('Number of Products')
plt.title('Top 20 Aisles by Number of Products')
plt.xticks(rotation=45, ha='right')
plt.show()


# Count products per department
product_by_dep = product_info.groupby('department')['product_id'].count().sort_values(ascending=False)

plt.figure(figsize=(12,6))
plt.bar(product_by_dep.index, product_by_dep.values, color='#a6cee3', edgecolor='black')
plt.xlabel('Department')
plt.ylabel('Number of Products')
plt.title('Number of Products per Department')
plt.xticks(rotation=45, ha='right')
plt.show()





train_data = pd.merge(prior, orders, on='order_id',how='left')
train_data = pd.merge(train_data, product_info, on = 'product_id',how='left')


test_data = pd.merge(train, orders, on='order_id',how='left')
test_data = pd.merge(test_data, product_info, on = 'product_id',how='left')





items_per_order = train_data.groupby('order_id')['product_id'].count().reset_index(name='num_items')

plt.figure(figsize=(8,5))
sns.histplot(items_per_order['num_items'], bins=50, kde=False, color = '#C39BD3')
plt.xlabel('Number of items in order')
plt.ylabel('Number of orders')
plt.title('Distribution of items per order')
plt.show()


top_products = (
    train_data['product_name']
    .value_counts()
    .head(20)
    .reset_index()
)
top_products.columns = ['product_name', 'order_count']

plt.figure(figsize=(10,6))
sns.barplot(data=top_products, x='order_count', y='product_name', color='#7FB3E9')
plt.xlabel('Number of Orders')
plt.ylabel('Product Name')
plt.title('Top 20 Most Popular Products')
plt.show()


# Compute reorder rate by department
dept_reorder_rate = (
    train_data.groupby('department')['reordered']
    .mean()
    .reset_index()
    .sort_values('reordered', ascending=False)
)

plt.figure(figsize=(10,6))
sns.barplot(data=dept_reorder_rate, x='reordered', y='department', color='#F7A77A')
plt.xlabel('Reorder Rate')
plt.ylabel('Department')
plt.title('Reorder Rate by Department')
plt.xlim(0, 1)
plt.show()


top_reordered = (
    train_data.groupby('product_name')['reordered']
    .sum()
    .reset_index()
    .sort_values('reordered', ascending=False)
    .head(20)
)

plt.figure(figsize=(10,6))
sns.barplot(data=top_reordered, x='reordered', y='product_name', color = '#F1948A')
plt.xlabel('Number of Reorders')
plt.ylabel('Product Name')
plt.title('Top 20 Reordered Products')
plt.show()
