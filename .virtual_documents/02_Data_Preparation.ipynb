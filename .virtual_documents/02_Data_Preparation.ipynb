


import pandas as pd
import numpy as np
from sklearn.model_selection import train_test_split


aisles = pd.read_csv('data/raw/aisles.csv')
departments =  pd.read_csv('data/raw/departments.csv')
prior = pd.read_csv('data/raw/order_products__prior.csv')
train = pd.read_csv('data/raw/order_products__train.csv')
orders = pd.read_csv('data/raw/orders.csv')
products = pd.read_csv('data/raw/products.csv')





# Get sample
np.random.seed(32021)
sampled_users =np.random.choice(orders.user_id.unique(), size=10000, replace=False)
orders = orders[orders.user_id.isin(sampled_users)]


# Split users into training and testing
train_users, test_users = train_test_split(
    sampled_users, test_size=0.2, random_state=32021
)





orders_prior = orders.merge(prior, on = 'order_id',how='inner')
orders_prior.head()


users_info = orders.groupby('user_id').agg(
    num_orders = ('order_number', 'max'),
    avg_days_since_prior_order = ('days_since_prior_order','mean'),
).reset_index()


users_info_2 = orders_prior.groupby('user_id').agg(
    num_items = ('product_id','count'),
    user_reorder_prop = ('reordered','sum')
).reset_index()
users_info_2['user_reorder_prop'] = users_info_2['user_reorder_prop']/users_info_2['num_items']


users_info = users_info.merge(users_info_2, on = 'user_id',how='left')
users_info.head()





products_info = prior.groupby('product_id').agg(
    product_total_orders = ('order_id','count'),
    product_reorder_prop = ('reordered','sum'),
    avg_add_to_cart_order = ('add_to_cart_order','mean')
).reset_index()
products_info['product_reorder_prop']=products_info['product_reorder_prop']/products_info['product_total_orders']
products_info.head()


# Merge extracted product features with aisles and departments
products_info=products_info.merge(products, on = 'product_id',how='left')
products_info.head()





user_prod_info = orders_prior.groupby(['user_id','product_id']).agg(
    times_bought_by_user = ('order_id','count'),
    avg_user_product_position = ('add_to_cart_order','mean'),
    last_order_number = ('order_number', 'max')
).reset_index()
user_prod_info.head()





extracted_features = user_prod_info.merge(
    users_info, on='user_id', how='left'
).merge(
    products_info, on='product_id', how='left'
)
extracted_features.head()





# Most recent orders
orders_train = orders.merge(train, on = 'order_id',how='inner')
orders_train.head()


# Label 1 for products that are reordered in the most recent order
recent_ordered = orders_train[['user_id','product_id']].copy()
recent_ordered['reordered']= 1


data = extracted_features.merge(recent_ordered, on=['user_id', 'product_id'], how='left')
data['reordered'] = data['reordered'].fillna(0).astype(int)





train_data = data[data['user_id'].isin(train_users)]
test_data = data[data['user_id'].isin(test_users)]


train_data.to_csv('data/processed/train_data.csv')
test_data.to_csv('data/processed/test_data.csv')
